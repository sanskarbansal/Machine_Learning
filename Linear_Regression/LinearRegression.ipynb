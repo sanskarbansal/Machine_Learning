{
 "cells": [
  {
   "cell_type": "code",
   "execution_count": 1,
   "metadata": {},
   "outputs": [],
   "source": [
    "import numpy as np\n",
    "import matplotlib.pyplot as plt"
   ]
  },
  {
   "cell_type": "markdown",
   "metadata": {},
   "source": [
    "### Fit function returns a function by which we can then transform our Input Data"
   ]
  },
  {
   "cell_type": "code",
   "execution_count": 98,
   "metadata": {},
   "outputs": [],
   "source": [
    "def fit(X): \n",
    "    '''\n",
    "    Stores mean and std in closure for future input values, to check mean and std\n",
    "    transform.__closures__.content_cells[0], transform.__closures__.content_cells[1]\n",
    "    '''\n",
    "    u = np.mean(X, axis=0)\n",
    "    std = np.std(X, axis=0)\n",
    "    def transform(test_X, implace=False): \n",
    "        '''\n",
    "        Transforms input data with standard feature scaling, \n",
    "        implace = False by default that means it will return transformed data \n",
    "        else it will store.\n",
    "        '''\n",
    "        result = (test_X - u)/std\n",
    "        if implace: \n",
    "            test_X = result\n",
    "        return result\n",
    "    return transform"
   ]
  },
  {
   "cell_type": "markdown",
   "metadata": {},
   "source": [
    "### Cost Function"
   ]
  },
  {
   "cell_type": "code",
   "execution_count": 36,
   "metadata": {},
   "outputs": [],
   "source": [
    "def cost(X, Y, m): \n",
    "    cost, M = 0, X.shape[0]\n",
    "    for rowIndex, row in enumerate(X): \n",
    "        cost += (1/M)*(Y[rowIndex] - (m*row).sum())**2\n",
    "    return cost"
   ]
  },
  {
   "cell_type": "code",
   "execution_count": 37,
   "metadata": {},
   "outputs": [],
   "source": [
    "def step_gd(X, Y, m, lr = 0.001): \n",
    "    M = X.shape[0]\n",
    "    m_slopes = np.zeros(X.shape[1])\n",
    "    for rowIndex, row in enumerate(X): \n",
    "        temp = Y[rowIndex] - (m*row).sum()\n",
    "        for i in range(X.shape[1]): \n",
    "            m_slopes[i] += temp*(-2*row[i])/M\n",
    "    return m - lr*m_slopes\n"
   ]
  },
  {
   "cell_type": "code",
   "execution_count": 100,
   "metadata": {},
   "outputs": [],
   "source": [
    "def gd(X, Y, iterations=10, lr = 0.01, verbose=True): \n",
    "    m = np.zeros(X.shape[1])\n",
    "    for _ in range(iterations): \n",
    "        m = step_gd(X, Y, m, lr)\n",
    "        if verbose: \n",
    "            print(f\"Cost: {cost(X, Y, m)}\")        \n",
    "    return m\n",
    "    "
   ]
  },
  {
   "cell_type": "code",
   "execution_count": 101,
   "metadata": {},
   "outputs": [],
   "source": [
    "from sklearn.datasets import load_boston"
   ]
  },
  {
   "cell_type": "code",
   "execution_count": 124,
   "metadata": {},
   "outputs": [
    {
     "data": {
      "text/plain": [
       "array([6.320e-03, 1.800e+01, 2.310e+00, 0.000e+00, 5.380e-01, 6.575e+00,\n",
       "       6.520e+01, 4.090e+00, 1.000e+00, 2.960e+02, 1.530e+01, 3.969e+02,\n",
       "       4.980e+00])"
      ]
     },
     "execution_count": 124,
     "metadata": {},
     "output_type": "execute_result"
    }
   ],
   "source": [
    "#Loading Boston Dataset\n",
    "boston = load_boston()\n",
    "X = boston.data\n",
    "Y = boston.target\n",
    "X[0]"
   ]
  },
  {
   "cell_type": "code",
   "execution_count": 125,
   "metadata": {},
   "outputs": [],
   "source": [
    "#Scaling Feature for better results. \n",
    "transform = fit(X)\n",
    "X = transform(X)\n",
    "ones = np.ones((X.shape[0], 1))\n",
    "X = np.hstack((ones, X))"
   ]
  },
  {
   "cell_type": "code",
   "execution_count": 132,
   "metadata": {},
   "outputs": [
    {
     "name": "stdout",
     "output_type": "stream",
     "text": [
      "Cost: 307.19859783475215\n",
      "Cost: 166.92644860642204\n",
      "Cost: 97.17324160636382\n",
      "Cost: 62.067599984820234\n",
      "Cost: 44.13042841592127\n",
      "Cost: 34.78521857475461\n",
      "Cost: 29.792804200568437\n",
      "Cost: 27.040141933305915\n",
      "Cost: 25.463044235749877\n",
      "Cost: 24.518509197801293\n"
     ]
    }
   ],
   "source": [
    "#Calling our gradient descent function\n",
    "m = gd(X, Y, 10, .15, verbose=True)"
   ]
  },
  {
   "cell_type": "code",
   "execution_count": 91,
   "metadata": {},
   "outputs": [
    {
     "data": {
      "text/plain": [
       "[<matplotlib.lines.Line2D at 0x7fbae082f6a0>]"
      ]
     },
     "execution_count": 91,
     "metadata": {},
     "output_type": "execute_result"
    },
    {
     "data": {
      "image/png": "[encoded data removed]",
      "text/plain": [
       "<Figure size 432x288 with 1 Axes>"
      ]
     },
     "metadata": {
      "needs_background": "light"
     },
     "output_type": "display_data"
    }
   ],
   "source": [
    "plt.scatter(Y, np.dot(X, m))\n",
    "plt.axis([0, Y.max()+20, 0, Y.max()+20])\n",
    "plt.plot([0, Y.max()+20], [0, Y.max()+20], color=\"red\")"
   ]
  },
  {
   "cell_type": "markdown",
   "metadata": {},
   "source": [
    "**Comparing Our Linear Regression with SKlearn Linear Regression**"
   ]
  },
  {
   "cell_type": "code",
   "execution_count": 90,
   "metadata": {},
   "outputs": [
    {
     "data": {
      "text/plain": [
       "[<matplotlib.lines.Line2D at 0x7fbad0389760>]"
      ]
     },
     "execution_count": 90,
     "metadata": {},
     "output_type": "execute_result"
    },
    {
     "data": {
      "image/png": "[encoded data removed]",
      "text/plain": [
       "<Figure size 432x288 with 1 Axes>"
      ]
     },
     "metadata": {
      "needs_background": "light"
     },
     "output_type": "display_data"
    }
   ],
   "source": [
    "from sklearn.linear_model import LinearRegression\n",
    "alg1 = LinearRegression()\n",
    "alg1.fit(X, Y)\n",
    "coef = alg1.coef_\n",
    "coef[0] = alg1.intercept_\n",
    "plt.scatter(np.dot(X, m), np.dot(X, coef))\n",
    "plt.axis([0, Y.max()+20, 0, Y.max()+20])\n",
    "plt.plot([0, Y.max()+20], [0, Y.max()+20], color=\"red\")"
   ]
  },
  {
   "cell_type": "markdown",
   "metadata": {},
   "source": [
    "### Optimising Code Using Numpy Features. "
   ]
  },
  {
   "cell_type": "code",
   "execution_count": 103,
   "metadata": {},
   "outputs": [],
   "source": [
    "def predict(X, m): \n",
    "    return np.dot(X, m)"
   ]
  },
  {
   "cell_type": "code",
   "execution_count": 104,
   "metadata": {},
   "outputs": [],
   "source": [
    "def cost_np(X, Y, m): \n",
    "    M = X.shape[0]\n",
    "    Y_ = predict(X, m)\n",
    "    return (((Y-Y_)**2).sum())/M\n"
   ]
  },
  {
   "cell_type": "code",
   "execution_count": 129,
   "metadata": {},
   "outputs": [],
   "source": [
    "def gradient(X, Y, m): \n",
    "    M = X.shape[0]\n",
    "    Y_ = predict(X, m)\n",
    "    temp = (Y-Y_)\n",
    "    return (-2/M)* np.dot(X.T, temp )"
   ]
  },
  {
   "cell_type": "code",
   "execution_count": 127,
   "metadata": {},
   "outputs": [],
   "source": [
    "def gradient_descent(X, Y, lr = 0.1, max_iter = 300, verbose = True): \n",
    "    m = np.zeros((X.shape[1], ))\n",
    "    for _ in range(max_iter): \n",
    "        grad = gradient(X, Y, m)\n",
    "        m = m - lr*grad\n",
    "        if verbose: \n",
    "            print(cost_np(X, Y, m))\n",
    "    return m"
   ]
  },
  {
   "cell_type": "code",
   "execution_count": 149,
   "metadata": {},
   "outputs": [
    {
     "name": "stdout",
     "output_type": "stream",
     "text": [
      "Time Taken By Numpy Methods: 7.028745889663696\n",
      "Time Taken By Iterative Methods: 7.1384618282318115\n"
     ]
    }
   ],
   "source": [
    "import time\n",
    "start_np = time.time()\n",
    "m = gradient_descent(X, Y, 0.15, 1000000, verbose=False)\n",
    "end_np = time.time()\n",
    "start_iterative = time.time()\n",
    "m = gd(X, Y, 1000, 0.15, verbose=False)\n",
    "end_iterative = time.time()\n",
    "print(f\"Time Taken By Numpy Methods: {end_np-start_np}\")\n",
    "print(f\"Time Taken By Iterative Methods: {end_iterative-start_iterative}\")"
   ]
  },
  {
   "cell_type": "markdown",
   "metadata": {},
   "source": [
    "### SKLearn Implementation"
   ]
  },
  {
   "cell_type": "code",
   "execution_count": 153,
   "metadata": {},
   "outputs": [
    {
     "name": "stdout",
     "output_type": "stream",
     "text": [
      "[ 2.25328063e+01 -9.28146064e-01  1.08156863e+00  1.40899997e-01\n",
      "  6.81739725e-01 -2.05671827e+00  2.67423017e+00  1.94660717e-02\n",
      " -3.10404426e+00  2.66221764e+00 -2.07678168e+00 -2.06060666e+00\n",
      "  8.49268418e-01 -3.74362713e+00]\n",
      "22.532806324110684\n"
     ]
    }
   ],
   "source": [
    "from sklearn.linear_model import LinearRegression\n",
    "alg = LinearRegression()\n",
    "alg.fit(X, Y)\n",
    "print(alg1.coef_)\n",
    "print(alg1.intercept_)"
   ]
  },
  {
   "cell_type": "code",
   "execution_count": 158,
   "metadata": {},
   "outputs": [
    {
     "data": {
      "text/plain": [
       "<matplotlib.collections.PathCollection at 0x7fba800eef40>"
      ]
     },
     "execution_count": 158,
     "metadata": {},
     "output_type": "execute_result"
    },
    {
     "data": {
      "image/png": "[encoded data removed]",
      "text/plain": [
       "<Figure size 432x288 with 1 Axes>"
      ]
     },
     "metadata": {
      "needs_background": "light"
     },
     "output_type": "display_data"
    }
   ],
   "source": [
    "# Comparing it with our hypothesis found by iterative method\n",
    "plt.scatter(np.dot(X, m), alg.predict(X)) "
   ]
  },
  {
   "cell_type": "code",
   "execution_count": null,
   "metadata": {},
   "outputs": [],
   "source": []
  }
 ],
 "metadata": {
  "kernelspec": {
   "display_name": "Python 3",
   "language": "python",
   "name": "python3"
  },
  "language_info": {
   "codemirror_mode": {
    "name": "ipython",
    "version": 3
   },
   "file_extension": ".py",
   "mimetype": "text/x-python",
   "name": "python",
   "nbconvert_exporter": "python",
   "pygments_lexer": "ipython3",
   "version": "3.8.5"
  }
 },
 "nbformat": 4,
 "nbformat_minor": 4
}
